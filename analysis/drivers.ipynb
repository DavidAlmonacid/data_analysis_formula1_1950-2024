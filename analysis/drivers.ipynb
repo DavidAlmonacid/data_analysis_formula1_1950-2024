{
 "cells": [
  {
   "cell_type": "markdown",
   "id": "05b00dc9",
   "metadata": {},
   "source": [
    "##### Install dependencies"
   ]
  },
  {
   "cell_type": "code",
   "execution_count": null,
   "id": "726b2acc",
   "metadata": {},
   "outputs": [
    {
     "name": "stdout",
     "output_type": "stream",
     "text": [
      "\u001b[2mUsing Python 3.13.5 environment at: /home/xhepe/Documents/Projects/DataScience/formula1_1950-2024/.venv\u001b[0m\n",
      "\u001b[2K\u001b[2mResolved \u001b[1m15 packages\u001b[0m \u001b[2min 1.36s\u001b[0m\u001b[0m                                        \u001b[0m\n",
      "\u001b[2K\u001b[2mInstalled \u001b[1m12 packages\u001b[0m \u001b[2min 398ms\u001b[0m\u001b[0m                              \u001b[0m\n",
      " \u001b[32m+\u001b[39m \u001b[1mcontourpy\u001b[0m\u001b[2m==1.3.2\u001b[0m\n",
      " \u001b[32m+\u001b[39m \u001b[1mcycler\u001b[0m\u001b[2m==0.12.1\u001b[0m\n",
      " \u001b[32m+\u001b[39m \u001b[1mfonttools\u001b[0m\u001b[2m==4.59.0\u001b[0m\n",
      " \u001b[32m+\u001b[39m \u001b[1mkiwisolver\u001b[0m\u001b[2m==1.4.8\u001b[0m\n",
      " \u001b[32m+\u001b[39m \u001b[1mmatplotlib\u001b[0m\u001b[2m==3.10.3\u001b[0m\n",
      " \u001b[32m+\u001b[39m \u001b[1mnumpy\u001b[0m\u001b[2m==2.3.1\u001b[0m\n",
      " \u001b[32m+\u001b[39m \u001b[1mpandas\u001b[0m\u001b[2m==2.3.1\u001b[0m\n",
      " \u001b[32m+\u001b[39m \u001b[1mpillow\u001b[0m\u001b[2m==11.3.0\u001b[0m\n",
      " \u001b[32m+\u001b[39m \u001b[1mpyparsing\u001b[0m\u001b[2m==3.2.3\u001b[0m\n",
      " \u001b[32m+\u001b[39m \u001b[1mpytz\u001b[0m\u001b[2m==2025.2\u001b[0m\n",
      " \u001b[32m+\u001b[39m \u001b[1mseaborn\u001b[0m\u001b[2m==0.13.2\u001b[0m\n",
      " \u001b[32m+\u001b[39m \u001b[1mtzdata\u001b[0m\u001b[2m==2025.2\u001b[0m\n"
     ]
    }
   ],
   "source": [
    "!uv pip install pandas matplotlib seaborn"
   ]
  },
  {
   "cell_type": "markdown",
   "id": "8b4a3451",
   "metadata": {},
   "source": [
    "##### Data Loading and Initial Cleaning"
   ]
  },
  {
   "cell_type": "code",
   "execution_count": 25,
   "id": "151e2c0a",
   "metadata": {},
   "outputs": [],
   "source": [
    "import pandas as pd\n",
    "\n",
    "# Load and clean data for Races\n",
    "df_races = pd.read_csv(\"../data/races.csv\", na_values=[\"\\\\N\"])\n",
    "\n",
    "# Convert date and time columns to datetime objects\n",
    "df_races[\"date\"] = pd.to_datetime(df_races[\"date\"], errors=\"coerce\")\n",
    "df_races[\"time\"] = pd.to_datetime(\n",
    "    df_races[\"time\"], format=\"%H:%M:%S\", errors=\"coerce\"\n",
    ").dt.time\n",
    "\n",
    "# Drop unnecessary columns\n",
    "columns_to_drop_races = [\n",
    "    \"fp1_date\",\n",
    "    \"fp1_time\",\n",
    "    \"fp2_date\",\n",
    "    \"fp2_time\",\n",
    "    \"fp3_date\",\n",
    "    \"fp3_time\",\n",
    "    \"quali_date\",\n",
    "    \"quali_time\",\n",
    "    \"sprint_date\",\n",
    "    \"sprint_time\",\n",
    "]\n",
    "\n",
    "df_races.drop(columns=columns_to_drop_races, axis=1, inplace=True)\n",
    "\n",
    "\n",
    "# Load and clean data for Circuits\n",
    "df_circuits = pd.read_csv(\"../data/circuits.csv\")\n",
    "\n",
    "# Select relevant columns and rename 'name' to 'circuitName'\n",
    "df_circuits = df_circuits[[\"circuitId\", \"name\", \"country\"]].rename(\n",
    "    columns={\"name\": \"circuitName\"}\n",
    ")\n",
    "\n",
    "# Mapping for short country names to long names\n",
    "country_name_map = {\n",
    "    \"USA\": \"United States\",\n",
    "    \"UK\": \"United Kingdom\",\n",
    "    \"UAE\": \"United Arab Emirates\",\n",
    "}\n",
    "\n",
    "# Replace short names with long names in the 'country' column\n",
    "df_circuits[\"country\"] = df_circuits[\"country\"].replace(country_name_map)\n",
    "\n",
    "df_races_merged = pd.merge(df_races, df_circuits, on=\"circuitId\", how=\"left\")\n",
    "\n",
    "\n",
    "# Load and clean data for Drivers\n",
    "df_drivers = pd.read_csv(\"../data/drivers.csv\", na_values=[\"\\\\N\"])\n",
    "\n",
    "df_drivers = df_drivers[[\"driverId\", \"forename\", \"surname\", \"dob\", \"nationality\"]]\n",
    "\n",
    "df_drivers[\"dob\"] = pd.to_datetime(df_drivers[\"dob\"], errors=\"coerce\")\n",
    "\n",
    "\n",
    "# Load amd clean data for Results\n",
    "# df_results = pd.read_csv(\"../data/results.csv\", na_values=[\"\\\\N\"])"
   ]
  }
 ],
 "metadata": {
  "kernelspec": {
   "display_name": ".venv",
   "language": "python",
   "name": "python3"
  },
  "language_info": {
   "codemirror_mode": {
    "name": "ipython",
    "version": 3
   },
   "file_extension": ".py",
   "mimetype": "text/x-python",
   "name": "python",
   "nbconvert_exporter": "python",
   "pygments_lexer": "ipython3",
   "version": "3.13.5"
  }
 },
 "nbformat": 4,
 "nbformat_minor": 5
}
