{
 "cells": [
  {
   "cell_type": "code",
   "execution_count": 13,
   "id": "9a637581",
   "metadata": {},
   "outputs": [],
   "source": [
    "import pandas as pd\n",
    "import numpy as np"
   ]
  },
  {
   "cell_type": "markdown",
   "id": "0a0bb7b5",
   "metadata": {},
   "source": [
    "##### Load the CSV file into a Pandas DataFrame"
   ]
  },
  {
   "cell_type": "code",
   "execution_count": null,
   "id": "93141286",
   "metadata": {},
   "outputs": [],
   "source": [
    "df_races: pd.DataFrame = pd.read_csv(\"races.csv\", na_values=[\"\\\\N\"])"
   ]
  },
  {
   "cell_type": "markdown",
   "id": "f99a7904",
   "metadata": {},
   "source": [
    "##### Let's peek at the first few rows to see what it looks like!"
   ]
  },
  {
   "cell_type": "code",
   "execution_count": 15,
   "id": "477bed6b",
   "metadata": {},
   "outputs": [
    {
     "name": "stdout",
     "output_type": "stream",
     "text": [
      "First 5 rows of the dataset:\n",
      "   raceId  year  round  circuitId                   name        date  \\\n",
      "0       1  2009      1          1  Australian Grand Prix  2009-03-29   \n",
      "1       2  2009      2          2   Malaysian Grand Prix  2009-04-05   \n",
      "2       3  2009      3         17     Chinese Grand Prix  2009-04-19   \n",
      "3       4  2009      4          3     Bahrain Grand Prix  2009-04-26   \n",
      "4       5  2009      5          4     Spanish Grand Prix  2009-05-10   \n",
      "\n",
      "       time                                                url fp1_date  \\\n",
      "0  06:00:00  http://en.wikipedia.org/wiki/2009_Australian_G...      NaN   \n",
      "1  09:00:00  http://en.wikipedia.org/wiki/2009_Malaysian_Gr...      NaN   \n",
      "2  07:00:00  http://en.wikipedia.org/wiki/2009_Chinese_Gran...      NaN   \n",
      "3  12:00:00  http://en.wikipedia.org/wiki/2009_Bahrain_Gran...      NaN   \n",
      "4  12:00:00  http://en.wikipedia.org/wiki/2009_Spanish_Gran...      NaN   \n",
      "\n",
      "  fp1_time fp2_date fp2_time fp3_date fp3_time quali_date quali_time  \\\n",
      "0      NaN      NaN      NaN      NaN      NaN        NaN        NaN   \n",
      "1      NaN      NaN      NaN      NaN      NaN        NaN        NaN   \n",
      "2      NaN      NaN      NaN      NaN      NaN        NaN        NaN   \n",
      "3      NaN      NaN      NaN      NaN      NaN        NaN        NaN   \n",
      "4      NaN      NaN      NaN      NaN      NaN        NaN        NaN   \n",
      "\n",
      "  sprint_date sprint_time  \n",
      "0         NaN         NaN  \n",
      "1         NaN         NaN  \n",
      "2         NaN         NaN  \n",
      "3         NaN         NaN  \n",
      "4         NaN         NaN  \n"
     ]
    }
   ],
   "source": [
    "print(\"First 5 rows of the dataset:\")\n",
    "print(df_races.head())"
   ]
  },
  {
   "cell_type": "markdown",
   "id": "f21e8c00",
   "metadata": {},
   "source": [
    "##### And let's get a quick summary of its structure, like data types and non-null counts"
   ]
  },
  {
   "cell_type": "code",
   "execution_count": 16,
   "id": "778442c3",
   "metadata": {},
   "outputs": [
    {
     "name": "stdout",
     "output_type": "stream",
     "text": [
      "\n",
      "Information about the dataset:\n",
      "<class 'pandas.core.frame.DataFrame'>\n",
      "RangeIndex: 1125 entries, 0 to 1124\n",
      "Data columns (total 18 columns):\n",
      " #   Column       Non-Null Count  Dtype \n",
      "---  ------       --------------  ----- \n",
      " 0   raceId       1125 non-null   int64 \n",
      " 1   year         1125 non-null   int64 \n",
      " 2   round        1125 non-null   int64 \n",
      " 3   circuitId    1125 non-null   int64 \n",
      " 4   name         1125 non-null   object\n",
      " 5   date         1125 non-null   object\n",
      " 6   time         394 non-null    object\n",
      " 7   url          1125 non-null   object\n",
      " 8   fp1_date     90 non-null     object\n",
      " 9   fp1_time     68 non-null     object\n",
      " 10  fp2_date     90 non-null     object\n",
      " 11  fp2_time     68 non-null     object\n",
      " 12  fp3_date     72 non-null     object\n",
      " 13  fp3_time     53 non-null     object\n",
      " 14  quali_date   90 non-null     object\n",
      " 15  quali_time   68 non-null     object\n",
      " 16  sprint_date  18 non-null     object\n",
      " 17  sprint_time  15 non-null     object\n",
      "dtypes: int64(4), object(14)\n",
      "memory usage: 158.3+ KB\n"
     ]
    }
   ],
   "source": [
    "print(\"\\nInformation about the dataset:\")\n",
    "df_races.info()"
   ]
  },
  {
   "cell_type": "markdown",
   "id": "6a3e91ca",
   "metadata": {},
   "source": [
    "##### Let's check the number of missing values"
   ]
  },
  {
   "cell_type": "code",
   "execution_count": 17,
   "id": "309bbb14",
   "metadata": {},
   "outputs": [
    {
     "name": "stdout",
     "output_type": "stream",
     "text": [
      "\n",
      "Number of missing values per column:\n",
      "raceId            0\n",
      "year              0\n",
      "round             0\n",
      "circuitId         0\n",
      "name              0\n",
      "date              0\n",
      "time            731\n",
      "url               0\n",
      "fp1_date       1035\n",
      "fp1_time       1057\n",
      "fp2_date       1035\n",
      "fp2_time       1057\n",
      "fp3_date       1053\n",
      "fp3_time       1072\n",
      "quali_date     1035\n",
      "quali_time     1057\n",
      "sprint_date    1107\n",
      "sprint_time    1110\n",
      "dtype: int64\n"
     ]
    }
   ],
   "source": [
    "print(\"\\nNumber of missing values per column:\")\n",
    "print(df_races.isnull().sum())"
   ]
  }
 ],
 "metadata": {
  "kernelspec": {
   "display_name": ".venv",
   "language": "python",
   "name": "python3"
  },
  "language_info": {
   "codemirror_mode": {
    "name": "ipython",
    "version": 3
   },
   "file_extension": ".py",
   "mimetype": "text/x-python",
   "name": "python",
   "nbconvert_exporter": "python",
   "pygments_lexer": "ipython3",
   "version": "3.13.5"
  }
 },
 "nbformat": 4,
 "nbformat_minor": 5
}
