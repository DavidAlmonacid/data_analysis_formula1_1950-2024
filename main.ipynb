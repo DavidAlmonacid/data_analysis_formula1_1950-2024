{
 "cells": [
  {
   "cell_type": "markdown",
   "id": "f78ad2de",
   "metadata": {},
   "source": [
    "##### Import libraries"
   ]
  },
  {
   "cell_type": "code",
   "execution_count": 29,
   "id": "9a637581",
   "metadata": {},
   "outputs": [],
   "source": [
    "import pandas as pd"
   ]
  },
  {
   "cell_type": "markdown",
   "id": "0a0bb7b5",
   "metadata": {},
   "source": [
    "##### Cleaning Initial Data"
   ]
  },
  {
   "cell_type": "code",
   "execution_count": 30,
   "id": "93141286",
   "metadata": {},
   "outputs": [],
   "source": [
    "# Load the CSV file into a Pandas DataFrame\n",
    "df_races: pd.DataFrame = pd.read_csv(\"races.csv\", na_values=[\"\\\\N\"])"
   ]
  },
  {
   "cell_type": "code",
   "execution_count": 31,
   "id": "11b52102",
   "metadata": {},
   "outputs": [],
   "source": [
    "# Droping unnecessary columns\n",
    "\n",
    "# List of columns to drop\n",
    "columns_to_drop = [\n",
    "    \"fp1_date\",\n",
    "    \"fp1_time\",\n",
    "    \"fp2_date\",\n",
    "    \"fp2_time\",\n",
    "    \"fp3_date\",\n",
    "    \"fp3_time\",\n",
    "    \"quali_date\",\n",
    "    \"quali_time\",\n",
    "    \"sprint_date\",\n",
    "    \"sprint_time\",\n",
    "]\n",
    "\n",
    "# Drop the specified columns\n",
    "df_races.drop(columns=columns_to_drop, axis=1, inplace=True)"
   ]
  },
  {
   "cell_type": "code",
   "execution_count": 32,
   "id": "780c86e3",
   "metadata": {},
   "outputs": [],
   "source": [
    "# Convert 'date' and 'time' columns to datetime objects\n",
    "df_races[\"date\"] = pd.to_datetime(df_races[\"date\"], errors=\"coerce\")\n",
    "df_races[\"time\"] = pd.to_datetime(\n",
    "    df_races[\"time\"], format=\"%H:%M:%S\", errors=\"coerce\"\n",
    ").dt.time"
   ]
  },
  {
   "cell_type": "code",
   "execution_count": 33,
   "id": "477bed6b",
   "metadata": {},
   "outputs": [
    {
     "name": "stdout",
     "output_type": "stream",
     "text": [
      "First 5 rows of the dataset:\n",
      "   raceId  year  round  circuitId                   name       date      time  \\\n",
      "0       1  2009      1          1  Australian Grand Prix 2009-03-29  06:00:00   \n",
      "1       2  2009      2          2   Malaysian Grand Prix 2009-04-05  09:00:00   \n",
      "2       3  2009      3         17     Chinese Grand Prix 2009-04-19  07:00:00   \n",
      "3       4  2009      4          3     Bahrain Grand Prix 2009-04-26  12:00:00   \n",
      "4       5  2009      5          4     Spanish Grand Prix 2009-05-10  12:00:00   \n",
      "\n",
      "                                                 url  \n",
      "0  http://en.wikipedia.org/wiki/2009_Australian_G...  \n",
      "1  http://en.wikipedia.org/wiki/2009_Malaysian_Gr...  \n",
      "2  http://en.wikipedia.org/wiki/2009_Chinese_Gran...  \n",
      "3  http://en.wikipedia.org/wiki/2009_Bahrain_Gran...  \n",
      "4  http://en.wikipedia.org/wiki/2009_Spanish_Gran...  \n"
     ]
    }
   ],
   "source": [
    "# Let's peek at the first few rows to see what it looks like!\n",
    "print(\"First 5 rows of the dataset:\")\n",
    "print(df_races.head())"
   ]
  },
  {
   "cell_type": "markdown",
   "id": "1ee1abbd",
   "metadata": {},
   "source": [
    "##### Checking Data Structure and Missingness"
   ]
  },
  {
   "cell_type": "code",
   "execution_count": 34,
   "id": "778442c3",
   "metadata": {},
   "outputs": [
    {
     "name": "stdout",
     "output_type": "stream",
     "text": [
      "\n",
      "Information about the dataset:\n",
      "<class 'pandas.core.frame.DataFrame'>\n",
      "RangeIndex: 1125 entries, 0 to 1124\n",
      "Data columns (total 8 columns):\n",
      " #   Column     Non-Null Count  Dtype         \n",
      "---  ------     --------------  -----         \n",
      " 0   raceId     1125 non-null   int64         \n",
      " 1   year       1125 non-null   int64         \n",
      " 2   round      1125 non-null   int64         \n",
      " 3   circuitId  1125 non-null   int64         \n",
      " 4   name       1125 non-null   object        \n",
      " 5   date       1125 non-null   datetime64[ns]\n",
      " 6   time       394 non-null    object        \n",
      " 7   url        1125 non-null   object        \n",
      "dtypes: datetime64[ns](1), int64(4), object(3)\n",
      "memory usage: 70.4+ KB\n"
     ]
    }
   ],
   "source": [
    "# Let's get a quick summary of its structure, like data types and non-null counts\n",
    "print(\"\\nInformation about the dataset:\")\n",
    "df_races.info()"
   ]
  },
  {
   "cell_type": "code",
   "execution_count": 35,
   "id": "309bbb14",
   "metadata": {},
   "outputs": [
    {
     "name": "stdout",
     "output_type": "stream",
     "text": [
      "\n",
      "Number of missing values per column:\n",
      "raceId         0\n",
      "year           0\n",
      "round          0\n",
      "circuitId      0\n",
      "name           0\n",
      "date           0\n",
      "time         731\n",
      "url            0\n",
      "dtype: int64\n"
     ]
    }
   ],
   "source": [
    "# Let's check the number of missing values\n",
    "print(\"\\nNumber of missing values per column:\")\n",
    "print(df_races.isnull().sum())"
   ]
  },
  {
   "cell_type": "markdown",
   "id": "5b350365",
   "metadata": {},
   "source": [
    "##### Checking and Correcting Possible Inconsistent Data"
   ]
  },
  {
   "cell_type": "code",
   "execution_count": null,
   "id": "8450b2d2",
   "metadata": {},
   "outputs": [
    {
     "name": "stdout",
     "output_type": "stream",
     "text": [
      "Unique values and their counts in the 'name' column:\n",
      "name\n",
      "Italian Grand Prix               75\n",
      "British Grand Prix               75\n",
      "Monaco Grand Prix                70\n",
      "Belgian Grand Prix               69\n",
      "German Grand Prix                64\n",
      "French Grand Prix                62\n",
      "Spanish Grand Prix               54\n",
      "Canadian Grand Prix              53\n",
      "Brazilian Grand Prix             47\n",
      "United States Grand Prix         45\n",
      "Hungarian Grand Prix             39\n",
      "Japanese Grand Prix              38\n",
      "Australian Grand Prix            38\n",
      "Austrian Grand Prix              37\n",
      "Dutch Grand Prix                 34\n",
      "San Marino Grand Prix            26\n",
      "European Grand Prix              23\n",
      "South African Grand Prix         23\n",
      "Argentine Grand Prix             20\n",
      "Mexican Grand Prix               20\n",
      "Bahrain Grand Prix               20\n",
      "Malaysian Grand Prix             19\n",
      "Portuguese Grand Prix            18\n",
      "Chinese Grand Prix               17\n",
      "Abu Dhabi Grand Prix             16\n",
      "Singapore Grand Prix             15\n",
      "Indianapolis 500                 11\n",
      "Turkish Grand Prix                9\n",
      "Russian Grand Prix                8\n",
      "United States Grand Prix West     8\n",
      "Azerbaijan Grand Prix             7\n",
      "Detroit Grand Prix                7\n",
      "Swiss Grand Prix                  6\n",
      "Swedish Grand Prix                6\n",
      "Emilia Romagna Grand Prix         4\n",
      "Mexico City Grand Prix            4\n",
      "Korean Grand Prix                 4\n",
      "Saudi Arabian Grand Prix          4\n",
      "São Paulo Grand Prix              4\n",
      "Qatar Grand Prix                  3\n",
      "Indian Grand Prix                 3\n",
      "Miami Grand Prix                  3\n",
      "Las Vegas Grand Prix              2\n",
      "Styrian Grand Prix                2\n",
      "Caesars Palace Grand Prix         2\n",
      "Pacific Grand Prix                2\n",
      "Luxembourg Grand Prix             2\n",
      "70th Anniversary Grand Prix       1\n",
      "Tuscan Grand Prix                 1\n",
      "Eifel Grand Prix                  1\n",
      "Sakhir Grand Prix                 1\n",
      "Pescara Grand Prix                1\n",
      "Dallas Grand Prix                 1\n",
      "Moroccan Grand Prix               1\n",
      "Name: count, dtype: int64\n"
     ]
    }
   ],
   "source": [
    "# Check unique values and their counts for the 'name' column\n",
    "print(\"Unique values and their counts in the 'name' column:\")\n",
    "print(df_races[\"name\"].value_counts())"
   ]
  },
  {
   "cell_type": "code",
   "execution_count": null,
   "id": "d210a9cf",
   "metadata": {},
   "outputs": [
    {
     "name": "stdout",
     "output_type": "stream",
     "text": [
      "Descriptive statistics for 'year' column:\n",
      "count    1125.000000\n",
      "mean     1992.703111\n",
      "std        20.603848\n",
      "min      1950.000000\n",
      "25%      1977.000000\n",
      "50%      1994.000000\n",
      "75%      2011.000000\n",
      "max      2024.000000\n",
      "Name: year, dtype: float64\n",
      "\n",
      "Descriptive statistics for 'round' column:\n",
      "count    1125.000000\n",
      "mean        8.579556\n",
      "std         5.159910\n",
      "min         1.000000\n",
      "25%         4.000000\n",
      "50%         8.000000\n",
      "75%        13.000000\n",
      "max        24.000000\n",
      "Name: round, dtype: float64\n"
     ]
    }
   ],
   "source": [
    "# Get descriptive statistics for the 'year' and 'round' columns\n",
    "print(\"Descriptive statistics for 'year' column:\")\n",
    "print(df_races[\"year\"].describe())\n",
    "\n",
    "print(\"\\nDescriptive statistics for 'round' column:\")\n",
    "print(df_races[\"round\"].describe())"
   ]
  }
 ],
 "metadata": {
  "kernelspec": {
   "display_name": ".venv",
   "language": "python",
   "name": "python3"
  },
  "language_info": {
   "codemirror_mode": {
    "name": "ipython",
    "version": 3
   },
   "file_extension": ".py",
   "mimetype": "text/x-python",
   "name": "python",
   "nbconvert_exporter": "python",
   "pygments_lexer": "ipython3",
   "version": "3.13.5"
  }
 },
 "nbformat": 4,
 "nbformat_minor": 5
}
